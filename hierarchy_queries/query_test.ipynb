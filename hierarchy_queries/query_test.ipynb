{
 "cells": [
  {
   "cell_type": "code",
   "execution_count": 1,
   "metadata": {},
   "outputs": [
    {
     "name": "stdout",
     "output_type": "stream",
     "text": [
      ".env variables loaded!\n"
     ]
    }
   ],
   "source": [
    "import os\n",
    "from dotenv import load_dotenv\n",
    "from neo4j import GraphDatabase\n",
    "import yaml\n",
    "\n",
    "(\n",
    "    print(\".env variables loaded!\")\n",
    "    if load_dotenv()\n",
    "    else print(\"Unable to load .env variables.\")\n",
    ")"
   ]
  },
  {
   "cell_type": "code",
   "execution_count": 10,
   "metadata": {},
   "outputs": [],
   "source": [
    "# Load yaml file\n",
    "config = yaml.safe_load(open('config.yaml'))"
   ]
  },
  {
   "cell_type": "markdown",
   "metadata": {},
   "source": [
    "## Test cypher by anchoring on specific node\n",
    "* **prod_khc_sales.kroger.kroger_daily_point_of_sale_fact**\n",
    "  * Original name tested in the call with the kraft team\n",
    "\n",
    "* **prod_khc_sales.iri_us_raw.iri_us_banner_total_category_product**\n",
    "  * Good example to show path explosion (this returns 2.7 million plus records)"
   ]
  },
  {
   "cell_type": "code",
   "execution_count": 3,
   "metadata": {},
   "outputs": [
    {
     "name": "stdout",
     "output_type": "stream",
     "text": [
      "Finished executing query and returned 21 roots & 1296 leaves after 1 ms\n",
      "Planner COST\n",
      "\n",
      "Runtime PIPELINED\n",
      "\n",
      "Runtime version 5.21\n",
      "\n",
      "Batch size 128\n",
      "\n",
      "+---------------------+----+----------------------------------------------------------------------------------+----------------+------+---------+----------------+------------------------+-----------+---------------------+\n",
      "| Operator            | Id | Details                                                                          | Estimated Rows | Rows | DB Hits | Memory (Bytes) | Page Cache Hits/Misses | Time (ms) | Pipeline            |\n",
      "+---------------------+----+----------------------------------------------------------------------------------+----------------+------+---------+----------------+------------------------+-----------+---------------------+\n",
      "| +ProduceResults     |  0 | roots, leaves                                                                    |             10 |    1 |  117711 |       48673736 |                27661/0 |   763.954 |                     |\n",
      "| |                   +----+----------------------------------------------------------------------------------+----------------+------+---------+----------------+------------------------+-----------+                     |\n",
      "| +Projection         |  1 | {start: n, leaves: tail(leaves)} AS leaves                                       |             10 |    1 |       0 |                |                    0/0 |     0.052 | In Pipeline 4       |\n",
      "| |                   +----+----------------------------------------------------------------------------------+----------------+------+---------+----------------+------------------------+-----------+---------------------+\n",
      "| +Apply              |  2 |                                                                                  |             10 |    1 |       0 |                |                    0/0 |           |                     |\n",
      "| |\\                  +----+----------------------------------------------------------------------------------+----------------+------+---------+----------------+------------------------+-----------+---------------------+\n",
      "| | +EagerAggregation |  3 | n, COLLECT(leaf) AS leaves                                                       |             10 |    1 |       0 |        2106760 |                        |           |                     |\n",
      "| | |                 +----+----------------------------------------------------------------------------------+----------------+------+---------+----------------+                        |           |                     |\n",
      "| | +Projection       |  4 | {leaf: nodes, rels: rels} AS leaf                                                |             32 | 1297 |       0 |                |                        |           |                     |\n",
      "| | |                 +----+----------------------------------------------------------------------------------+----------------+------+---------+----------------+                        |           |                     |\n",
      "| | +Projection       |  5 | tail(nodes(path)) AS nodes, relationships(path) AS rels                          |             32 | 1297 |       0 |                |                        |           |                     |\n",
      "| | |                 +----+----------------------------------------------------------------------------------+----------------+------+---------+----------------+                        |           |                     |\n",
      "| | +ProcedureCall    |  6 | apoc.path.spanningTree(n, {relationshipFilter: $autostring_1}) :: (path :: PATH) |             32 | 1297 |         |                |                        |           |                     |\n",
      "| | |                 +----+----------------------------------------------------------------------------------+----------------+------+---------+----------------+                        |           |                     |\n",
      "| | +Argument         |  7 | n                                                                                |              3 |    1 |         |          41792 |                 5108/0 |    57.225 | Fused in Pipeline 3 |\n",
      "| |                   +----+----------------------------------------------------------------------------------+----------------+------+---------+----------------+------------------------+-----------+---------------------+\n",
      "| +Projection         |  8 | {start: n, roots: tail(roots)} AS roots                                          |              3 |    1 |       0 |                |                    0/0 |     0.015 | In Pipeline 2       |\n",
      "| |                   +----+----------------------------------------------------------------------------------+----------------+------+---------+----------------+------------------------+-----------+---------------------+\n",
      "| +Apply              |  9 |                                                                                  |              3 |    1 |       0 |                |                    0/0 |           |                     |\n",
      "| |\\                  +----+----------------------------------------------------------------------------------+----------------+------+---------+----------------+------------------------+-----------+---------------------+\n",
      "| | +EagerAggregation | 10 | n, COLLECT(root) AS roots                                                        |              3 |    1 |       0 |          19712 |                        |           |                     |\n",
      "| | |                 +----+----------------------------------------------------------------------------------+----------------+------+---------+----------------+                        |           |                     |\n",
      "| | +Projection       | 11 | {root: nodes, rels: rels} AS root                                                |             10 |   22 |       0 |                |                        |           |                     |\n",
      "| | |                 +----+----------------------------------------------------------------------------------+----------------+------+---------+----------------+                        |           |                     |\n",
      "| | +Projection       | 12 | tail(nodes(path)) AS nodes, relationships(path) AS rels                          |             10 |   22 |       0 |                |                        |           |                     |\n",
      "| | |                 +----+----------------------------------------------------------------------------------+----------------+------+---------+----------------+                        |           |                     |\n",
      "| | +ProcedureCall    | 13 | apoc.path.spanningTree(n, {relationshipFilter: $autostring_0}) :: (path :: PATH) |             10 |   22 |         |                |                        |           |                     |\n",
      "| | |                 +----+----------------------------------------------------------------------------------+----------------+------+---------+----------------+                        |           |                     |\n",
      "| | +Argument         | 14 | n                                                                                |              1 |    1 |         |           2408 |                   69/0 |     2.649 | Fused in Pipeline 1 |\n",
      "| |                   +----+----------------------------------------------------------------------------------+----------------+------+---------+----------------+------------------------+-----------+---------------------+\n",
      "| +NodeIndexSeek      | 15 | TEXT INDEX n:dbt_table_or_consumption_view(name) WHERE name = $name              |              1 |    1 |       2 |            376 |                    3/0 |     1.904 | In Pipeline 0       |\n",
      "+---------------------+----+----------------------------------------------------------------------------------+----------------+------+---------+----------------+------------------------+-----------+---------------------+\n",
      "\n",
      "Total database accesses: 117713 + ?, total allocated memory: 48676160\n",
      "\n"
     ]
    }
   ],
   "source": [
    "# Initial record provided by the Kraft Team\n",
    "sale_fact = 'prod_khc_sales.kroger.kroger_daily_point_of_sale_fact'\n",
    "\n",
    "# Large table that produces 2.7 million variable paths when using default query expansion\n",
    "total_category_product = 'prod_khc_sales.iri_us_raw.iri_us_banner_total_category_product'\n",
    "\n",
    "with GraphDatabase.driver(os.environ.get(\"NEO4J_URI\"), auth=(os.environ.get(\"NEO4J_USERNAME\"), os.environ.get(\"NEO4J_PASSWORD\"))) as driver:\n",
    "    \n",
    "    records, summary, keys = driver.execute_query(config['spanning_tree_only'], \n",
    "                                   name=sale_fact, \n",
    "                                   database=os.environ.get(\"NEO4J_DATABASE\"))\n",
    "\n",
    "    # Print Summary information\n",
    "    print(\"Finished executing query and returned {root_count} roots & {leaf_count} leaves after {time} ms\".format(\n",
    "    time=summary.result_available_after,\n",
    "    root_count=len(records[0]['roots']['roots']),\n",
    "    leaf_count=len(records[0]['leaves']['leaves'])\n",
    "    ))\n",
    "    \n",
    "    print(summary.profile['args']['string-representation'])\n",
    "    "
   ]
  },
  {
   "cell_type": "code",
   "execution_count": 11,
   "metadata": {},
   "outputs": [
    {
     "name": "stdout",
     "output_type": "stream",
     "text": [
      "Finished executing query and returned 36 roots & 1876 leaves after 2 ms\n",
      "Planner COST\n",
      "\n",
      "Runtime PIPELINED\n",
      "\n",
      "Runtime version 5.21\n",
      "\n",
      "Batch size 128\n",
      "\n",
      "+---------------------+----+----------------------------------------------------------------------------------+----------------+------+---------+----------------+------------------------+-----------+---------------------+\n",
      "| Operator            | Id | Details                                                                          | Estimated Rows | Rows | DB Hits | Memory (Bytes) | Page Cache Hits/Misses | Time (ms) | Pipeline            |\n",
      "+---------------------+----+----------------------------------------------------------------------------------+----------------+------+---------+----------------+------------------------+-----------+---------------------+\n",
      "| +ProduceResults     |  0 | roots, leaves                                                                    |             10 |    1 |  123883 |       97561728 |                51828/0 |  1897.533 |                     |\n",
      "| |                   +----+----------------------------------------------------------------------------------+----------------+------+---------+----------------+------------------------+-----------+                     |\n",
      "| +Projection         |  1 | {start: n, leaves: tail(leaves)} AS leaves                                       |             10 |    1 |       0 |                |                    0/0 |     0.038 | In Pipeline 4       |\n",
      "| |                   +----+----------------------------------------------------------------------------------+----------------+------+---------+----------------+------------------------+-----------+---------------------+\n",
      "| +Apply              |  2 |                                                                                  |             10 |    1 |       0 |                |                    0/0 |           |                     |\n",
      "| |\\                  +----+----------------------------------------------------------------------------------+----------------+------+---------+----------------+------------------------+-----------+---------------------+\n",
      "| | +EagerAggregation |  3 | n, COLLECT(leaf) AS leaves                                                       |             10 |    1 |       0 |        2383800 |                        |           |                     |\n",
      "| | |                 +----+----------------------------------------------------------------------------------+----------------+------+---------+----------------+                        |           |                     |\n",
      "| | +Projection       |  4 | {leaf: nodes, rels: rels} AS leaf                                                |             32 | 1877 |       0 |                |                        |           |                     |\n",
      "| | |                 +----+----------------------------------------------------------------------------------+----------------+------+---------+----------------+                        |           |                     |\n",
      "| | +Projection       |  5 | tail(nodes(path)) AS nodes, relationships(path) AS rels                          |             32 | 1877 |       0 |                |                        |           |                     |\n",
      "| | |                 +----+----------------------------------------------------------------------------------+----------------+------+---------+----------------+                        |           |                     |\n",
      "| | +ProcedureCall    |  6 | apoc.path.spanningTree(n, {relationshipFilter: $autostring_1}) :: (path :: PATH) |             32 | 1877 |         |                |                        |           |                     |\n",
      "| | |                 +----+----------------------------------------------------------------------------------+----------------+------+---------+----------------+                        |           |                     |\n",
      "| | +Argument         |  7 | n                                                                                |              3 |    1 |         |          72192 |                 8146/0 |    16.511 | Fused in Pipeline 3 |\n",
      "| |                   +----+----------------------------------------------------------------------------------+----------------+------+---------+----------------+------------------------+-----------+---------------------+\n",
      "| +Projection         |  8 | {start: n, roots: tail(roots)} AS roots                                          |              3 |    1 |       0 |                |                    0/0 |     0.017 | In Pipeline 2       |\n",
      "| |                   +----+----------------------------------------------------------------------------------+----------------+------+---------+----------------+------------------------+-----------+---------------------+\n",
      "| +Apply              |  9 |                                                                                  |              3 |    1 |       0 |                |                    0/0 |           |                     |\n",
      "| |\\                  +----+----------------------------------------------------------------------------------+----------------+------+---------+----------------+------------------------+-----------+---------------------+\n",
      "| | +EagerAggregation | 10 | n, COLLECT(root) AS roots                                                        |              3 |    1 |       0 |          34912 |                        |           |                     |\n",
      "| | |                 +----+----------------------------------------------------------------------------------+----------------+------+---------+----------------+                        |           |                     |\n",
      "| | +Projection       | 11 | {root: nodes, rels: rels} AS root                                                |             10 |   37 |       0 |                |                        |           |                     |\n",
      "| | |                 +----+----------------------------------------------------------------------------------+----------------+------+---------+----------------+                        |           |                     |\n",
      "| | +Projection       | 12 | tail(nodes(path)) AS nodes, relationships(path) AS rels                          |             10 |   37 |       0 |                |                        |           |                     |\n",
      "| | |                 +----+----------------------------------------------------------------------------------+----------------+------+---------+----------------+                        |           |                     |\n",
      "| | +ProcedureCall    | 13 | apoc.path.spanningTree(n, {relationshipFilter: $autostring_0}) :: (path :: PATH) |             10 |   37 |         |                |                        |           |                     |\n",
      "| | |                 +----+----------------------------------------------------------------------------------+----------------+------+---------+----------------+                        |           |                     |\n",
      "| | +Argument         | 14 | n                                                                                |              1 |    1 |         |           2408 |                   60/0 |     1.099 | Fused in Pipeline 1 |\n",
      "| |                   +----+----------------------------------------------------------------------------------+----------------+------+---------+----------------+------------------------+-----------+---------------------+\n",
      "| +NodeIndexSeek      | 15 | TEXT INDEX n:dbt_table_or_consumption_view(name) WHERE name = $name              |              1 |    1 |       2 |            376 |                    3/0 |     2.634 | In Pipeline 0       |\n",
      "+---------------------+----+----------------------------------------------------------------------------------+----------------+------+---------+----------------+------------------------+-----------+---------------------+\n",
      "\n",
      "Total database accesses: 123885 + ?, total allocated memory: 97564152\n",
      "\n"
     ]
    }
   ],
   "source": [
    "with GraphDatabase.driver(os.environ.get(\"NEO4J_URI\"), auth=(os.environ.get(\"NEO4J_USERNAME\"), os.environ.get(\"NEO4J_PASSWORD\"))) as driver:\n",
    "    \n",
    "    records, summary, keys = driver.execute_query(config['spanning_tree_only'], \n",
    "                                   name=total_category_product, \n",
    "                                   database=os.environ.get(\"NEO4J_DATABASE\"))\n",
    "\n",
    "    # Print Summary information\n",
    "    print(\"Finished executing query and returned {root_count} roots & {leaf_count} leaves after {time} ms\".format(\n",
    "    time=summary.result_available_after,\n",
    "    root_count=len(records[0]['roots']['roots']),\n",
    "    leaf_count=len(records[0]['leaves']['leaves'])\n",
    "    ))\n",
    "    \n",
    "    print(summary.profile['args']['string-representation'])"
   ]
  },
  {
   "cell_type": "code",
   "execution_count": 5,
   "metadata": {},
   "outputs": [
    {
     "name": "stdout",
     "output_type": "stream",
     "text": [
      "Finished executing query and returned 37356 paths after 1 ms\n",
      "Planner COST\n",
      "\n",
      "Runtime PIPELINED\n",
      "\n",
      "Runtime version 5.21\n",
      "\n",
      "Batch size 128\n",
      "\n",
      "+-----------------------+----+------------------------------------------------------------------------------------+----------------+-------+---------+----------------+------------------------+-----------+---------------------+\n",
      "| Operator              | Id | Details                                                                            | Estimated Rows | Rows  | DB Hits | Memory (Bytes) | Page Cache Hits/Misses | Time (ms) | Pipeline            |\n",
      "+-----------------------+----+------------------------------------------------------------------------------------+----------------+-------+---------+----------------+------------------------+-----------+---------------------+\n",
      "| +ProduceResults       |  0 | startNode, leaf, paths                                                             |              1 | 37356 | 1270362 |           6888 |                        |           |                     |\n",
      "| |                     +----+------------------------------------------------------------------------------------+----------------+-------+---------+----------------+                        |           |                     |\n",
      "| +Projection           |  1 | n AS startNode, m AS leaf, r AS paths                                              |              1 | 37356 |       0 |                |                        |           |                     |\n",
      "| |                     +----+------------------------------------------------------------------------------------+----------------+-------+---------+----------------+                        |           |                     |\n",
      "| +Filter               |  2 | NOT size(r) = $autoint_0                                                           |              1 | 37356 |       0 |                |                        |           |                     |\n",
      "| |                     +----+------------------------------------------------------------------------------------+----------------+-------+---------+----------------+                        |           |                     |\n",
      "| +VarLengthExpand(All) |  3 | (n)-[r*0..]->(m)                                                                   |              6 | 37357 |  400736 |            432 |                        |           |                     |\n",
      "| |                     +----+------------------------------------------------------------------------------------+----------------+-------+---------+----------------+                        |           |                     |\n",
      "| +NodeIndexSeek        |  4 | TEXT INDEX n:dbt_table_or_consumption_view(name) WHERE name = $name, cache[n.name] |              1 |     1 |       2 |            248 |               579704/0 |  3876.005 | Fused in Pipeline 0 |\n",
      "+-----------------------+----+------------------------------------------------------------------------------------+----------------+-------+---------+----------------+------------------------+-----------+---------------------+\n",
      "\n",
      "Total database accesses: 1671100, total allocated memory: 7448\n",
      "\n"
     ]
    }
   ],
   "source": [
    "with GraphDatabase.driver(os.environ.get(\"NEO4J_URI\"), auth=(os.environ.get(\"NEO4J_USERNAME\"), os.environ.get(\"NEO4J_PASSWORD\"))) as driver:\n",
    "    \n",
    "    records, summary, keys = driver.execute_query(config['qpp_query_stream_all'], \n",
    "                                   name=sale_fact, \n",
    "                                   database=os.environ.get(\"NEO4J_DATABASE\"))\n",
    "\n",
    "    # Print Summary information\n",
    "    print(\"Finished executing query and returned {leaf_count} paths after {time} ms\".format(\n",
    "    time=summary.result_available_after,\n",
    "    # root_count=len(records[0]['roots']['roots']),\n",
    "    leaf_count=len(records)\n",
    "    ))\n",
    "    \n",
    "    print(summary.profile['args']['string-representation'])"
   ]
  },
  {
   "cell_type": "code",
   "execution_count": 12,
   "metadata": {},
   "outputs": [
    {
     "name": "stdout",
     "output_type": "stream",
     "text": [
      "Finished executing query and returned 37356 paths after 1 ms\n",
      "Planner COST\n",
      "\n",
      "Runtime PARALLEL\n",
      "\n",
      "Runtime version 5.21\n",
      "\n",
      "Batch size 128\n",
      "\n",
      "+-----------------------+----+----------------------------------------------------------------------+----------------+-------+---------+----------------+------------------------+-----------+---------------------+\n",
      "| Operator              | Id | Details                                                              | Estimated Rows | Rows  | DB Hits | Memory (Bytes) | Page Cache Hits/Misses | Time (ms) | Pipeline            |\n",
      "+-----------------------+----+----------------------------------------------------------------------+----------------+-------+---------+----------------+------------------------+-----------+---------------------+\n",
      "| +ProduceResults       |  0 | startNodeId, leafId, paths                                           |              1 | 37356 |  473419 |        5210976 |               310962/0 |   863.011 | In Pipeline 2       |\n",
      "| |                     +----+----------------------------------------------------------------------+----------------+-------+---------+----------------+------------------------+-----------+---------------------+\n",
      "| +Projection           |  1 | cache[n.unique_id] AS startNodeId, m.unique_id AS leafId, r AS paths |              1 | 37356 |   42304 |                |                        |           |                     |\n",
      "| |                     +----+----------------------------------------------------------------------+----------------+-------+---------+----------------+                        |           |                     |\n",
      "| +Filter               |  2 | NOT size(r) = $autoint_0                                             |              1 | 37356 |       0 |                |                        |           |                     |\n",
      "| |                     +----+----------------------------------------------------------------------+----------------+-------+---------+----------------+                        |           |                     |\n",
      "| +VarLengthExpand(All) |  3 | (n)-[r*0..]->(m)                                                     |              6 | 37357 |  400736 |            540 |               150225/0 |   110.318 | Fused in Pipeline 1 |\n",
      "| |                     +----+----------------------------------------------------------------------+----------------+-------+---------+----------------+------------------------+-----------+---------------------+\n",
      "| +CacheProperties      |  4 | cache[n.unique_id]                                                   |              1 |     1 |       2 |                |                        |           |                     |\n",
      "| |                     +----+----------------------------------------------------------------------+----------------+-------+---------+----------------+                        |           |                     |\n",
      "| +NodeIndexSeek        |  5 | TEXT INDEX n:dbt_table_or_consumption_view(name) WHERE name = $name  |              1 |     1 |       2 |            120 |                    4/0 |     1.639 | Fused in Pipeline 0 |\n",
      "+-----------------------+----+----------------------------------------------------------------------+----------------+-------+---------+----------------+------------------------+-----------+---------------------+\n",
      "\n",
      "Total database accesses: 916463, total allocated memory: 12324424\n",
      "\n"
     ]
    }
   ],
   "source": [
    "with GraphDatabase.driver(os.environ.get(\"NEO4J_URI\"), auth=(os.environ.get(\"NEO4J_USERNAME\"), os.environ.get(\"NEO4J_PASSWORD\"))) as driver:\n",
    "    \n",
    "    records, summary, keys = driver.execute_query(config['qpp_query_stream_id_paths'], \n",
    "                                   name=sale_fact, \n",
    "                                   database=os.environ.get(\"NEO4J_DATABASE\"))\n",
    "\n",
    "    # Print Summary information\n",
    "    print(\"Finished executing query and returned {leaf_count} paths after {time} ms\".format(\n",
    "    time=summary.result_available_after,\n",
    "    # root_count=len(records[0]['roots']['roots']),\n",
    "    leaf_count=len(records)\n",
    "    ))\n",
    "    \n",
    "    print(summary.profile['args']['string-representation'])"
   ]
  },
  {
   "cell_type": "code",
   "execution_count": 13,
   "metadata": {},
   "outputs": [
    {
     "name": "stdout",
     "output_type": "stream",
     "text": [
      "Finished executing query and returned 2746317 paths after 1 ms\n",
      "Planner COST\n",
      "\n",
      "Runtime PARALLEL\n",
      "\n",
      "Runtime version 5.21\n",
      "\n",
      "Batch size 128\n",
      "\n",
      "+-----------------------+----+----------------------------------------------------------------------+----------------+---------+----------+----------------+------------------------+-----------+---------------------+\n",
      "| Operator              | Id | Details                                                              | Estimated Rows | Rows    | DB Hits  | Memory (Bytes) | Page Cache Hits/Misses | Time (ms) | Pipeline            |\n",
      "+-----------------------+----+----------------------------------------------------------------------+----------------+---------+----------+----------------+------------------------+-----------+---------------------+\n",
      "| +ProduceResults       |  0 | startNodeId, leafId, paths                                           |              1 | 2746317 | 43466215 |        8157824 |             27768365/0 | 65201.715 | In Pipeline 2       |\n",
      "| |                     +----+----------------------------------------------------------------------+----------------+---------+----------+----------------+------------------------+-----------+---------------------+\n",
      "| +Projection           |  1 | cache[n.unique_id] AS startNodeId, m.unique_id AS leafId, r AS paths |              1 | 2746317 |  2985162 |                |                        |           |                     |\n",
      "| |                     +----+----------------------------------------------------------------------+----------------+---------+----------+----------------+                        |           |                     |\n",
      "| +Filter               |  2 | NOT size(r) = $autoint_0                                             |              1 | 2746317 |        0 |                |                        |           |                     |\n",
      "| |                     +----+----------------------------------------------------------------------+----------------+---------+----------+----------------+                        |           |                     |\n",
      "| +VarLengthExpand(All) |  3 | (n)-[r*0..]->(m)                                                     |              6 | 2746318 | 24473918 |            540 |             10441015/0 |  5813.369 | Fused in Pipeline 1 |\n",
      "| |                     +----+----------------------------------------------------------------------+----------------+---------+----------+----------------+------------------------+-----------+---------------------+\n",
      "| +CacheProperties      |  4 | cache[n.unique_id]                                                   |              1 |       1 |        2 |                |                        |           |                     |\n",
      "| |                     +----+----------------------------------------------------------------------+----------------+---------+----------+----------------+                        |           |                     |\n",
      "| +NodeIndexSeek        |  5 | TEXT INDEX n:dbt_table_or_consumption_view(name) WHERE name = $name  |              1 |       1 |        2 |            120 |                    4/0 |     2.011 | Fused in Pipeline 0 |\n",
      "+-----------------------+----+----------------------------------------------------------------------+----------------+---------+----------+----------------+------------------------+-----------+---------------------+\n",
      "\n",
      "Total database accesses: 70925299, total allocated memory: 16057432\n",
      "\n"
     ]
    }
   ],
   "source": [
    "with GraphDatabase.driver(os.environ.get(\"NEO4J_URI\"), auth=(os.environ.get(\"NEO4J_USERNAME\"), os.environ.get(\"NEO4J_PASSWORD\"))) as driver:\n",
    "    \n",
    "    records, summary, keys = driver.execute_query(config['qpp_query_stream_id_paths'], \n",
    "                                   name=total_category_product, \n",
    "                                   database=os.environ.get(\"NEO4J_DATABASE\"))\n",
    "\n",
    "    # Print Summary information\n",
    "    print(\"Finished executing query and returned {leaf_count} paths after {time} ms\".format(\n",
    "    time=summary.result_available_after,\n",
    "    # root_count=len(records[0]['roots']['roots']),\n",
    "    leaf_count=len(records)\n",
    "    ))\n",
    "    \n",
    "    print(summary.profile['args']['string-representation'])"
   ]
  }
 ],
 "metadata": {
  "kernelspec": {
   "display_name": ".venv",
   "language": "python",
   "name": "python3"
  },
  "language_info": {
   "codemirror_mode": {
    "name": "ipython",
    "version": 3
   },
   "file_extension": ".py",
   "mimetype": "text/x-python",
   "name": "python",
   "nbconvert_exporter": "python",
   "pygments_lexer": "ipython3",
   "version": "3.11.9"
  }
 },
 "nbformat": 4,
 "nbformat_minor": 2
}
