{
 "cells": [
  {
   "cell_type": "code",
   "execution_count": 1,
   "metadata": {},
   "outputs": [
    {
     "data": {
      "text/plain": [
       "True"
      ]
     },
     "execution_count": 1,
     "metadata": {},
     "output_type": "execute_result"
    }
   ],
   "source": [
    "import os\n",
    "from typing import Dict, List, Union\n",
    "\n",
    "from neo4j import GraphDatabase\n",
    "import pandas as pd\n",
    "from dotenv import load_dotenv\n",
    "\n",
    "load_dotenv()"
   ]
  },
  {
   "cell_type": "markdown",
   "metadata": {},
   "source": [
    "### Neo4j Driver"
   ]
  },
  {
   "cell_type": "code",
   "execution_count": 33,
   "metadata": {},
   "outputs": [],
   "source": [
    "driver = GraphDatabase.driver(uri=os.environ.get(\"NEO4J_URI\"), auth=(os.environ.get(\"NEO4J_USERNAME\"), os.environ.get(\"NEO4J_PASSWORD\")), liveness_check_timeout=0.0)\n",
    "driver.verify_authentication()\n",
    "driver.verify_connectivity()"
   ]
  },
  {
   "cell_type": "code",
   "execution_count": 39,
   "metadata": {},
   "outputs": [],
   "source": [
    "ravi_query: str = \"\"\"\n",
    "// Ravi's\n",
    "MATCH (n:dbt_table_or_consumption_view {name: 'prod_khc_sales.kroger.kroger_daily_point_of_sale_fact'})\n",
    "WITH n\n",
    "MATCH p=()-[*0..]->(n)\n",
    "WITH n, nodes(p) AS nodes, relationships(p) AS rels\n",
    "with n, { node: head(nodes) , rel: head(rels) } AS root\n",
    "WITH n, COLLECT(DISTINCT root) AS roots\n",
    "MATCH p=(n)-[*0..]->()\n",
    "WITH n, roots, nodes(p) AS nodes, relationships(p) AS rels\n",
    "with n, roots, { node: tail(nodes) , rel: CASE WHEN size(rels) > 1\n",
    "THEN tail(rels) ELSE head(rels) END } AS leaf\n",
    "WITH {node: n, rel: []} as n1, roots, COLLECT(DISTINCT leaf)\n",
    "AS leaves\n",
    "RETURN n1 + roots + leaves as data\n",
    "\"\"\"\n",
    "\n",
    "updated_query: str = \"\"\"\n",
    "MATCH (n:dbt_table_or_consumption_view {name: 'prod_khc_sales.kroger.kroger_daily_point_of_sale_fact'})\n",
    "// Get Roots\n",
    "CALL {\n",
    "    WITH n\n",
    "    CALL apoc.path.expandConfig(n, {\n",
    "\t    relationshipFilter: \"<\",\n",
    "        uniqueness: \"NONE\",\n",
    "        minLevel: 0,\n",
    "        maxLevel: 10\n",
    "    })\n",
    "    YIELD path AS p\n",
    "    WITH nodes(p) AS nodes, \n",
    "         relationships(p) AS rels\n",
    "    WITH { node: head(nodes) , rel: head(rels) } AS root\n",
    "    WITH COLLECT(DISTINCT root) AS roots\n",
    "    RETURN roots\n",
    "}\n",
    "WITH n, roots\n",
    "// Get Leafs\n",
    "CALL {\n",
    "    WITH n\n",
    "    CALL apoc.path.expandConfig(n, {\n",
    "\t    relationshipFilter: \">\",\n",
    "        uniqueness: \"NONE\",\n",
    "        minLevel: 0,\n",
    "        maxLevel: 1000\n",
    "    })\n",
    "    YIELD path AS p\n",
    "    WITH nodes(p) AS nodes, \n",
    "         relationships(p) AS rels\n",
    "    WITH { node: head(nodes) , rel: head(rels) } AS leaf\n",
    "    WITH COLLECT(DISTINCT leaf) AS leaves\n",
    "    RETURN leaves\n",
    "}\n",
    "RETURN n + roots + leaves\n",
    "\"\"\""
   ]
  },
  {
   "cell_type": "code",
   "execution_count": 40,
   "metadata": {},
   "outputs": [],
   "source": [
    "def format_query(query: str) -> str:\n",
    "    query = query.replace(\"{\", \"{{\")\n",
    "    return query.replace(\"}\", \"}}\")"
   ]
  },
  {
   "cell_type": "code",
   "execution_count": 41,
   "metadata": {},
   "outputs": [],
   "source": [
    "def run_query(query: str) -> List[Union[List[str], str]]:\n",
    "    with driver.session() as session:\n",
    "        return session.run(query).values()[0]"
   ]
  },
  {
   "cell_type": "code",
   "execution_count": 42,
   "metadata": {},
   "outputs": [],
   "source": [
    "res = run_query(updated_query)"
   ]
  },
  {
   "cell_type": "code",
   "execution_count": 43,
   "metadata": {},
   "outputs": [
    {
     "data": {
      "text/plain": [
       "27"
      ]
     },
     "execution_count": 43,
     "metadata": {},
     "output_type": "execute_result"
    }
   ],
   "source": [
    "len(res[0])"
   ]
  },
  {
   "cell_type": "code",
   "execution_count": null,
   "metadata": {},
   "outputs": [],
   "source": []
  },
  {
   "cell_type": "code",
   "execution_count": null,
   "metadata": {},
   "outputs": [],
   "source": []
  },
  {
   "cell_type": "code",
   "execution_count": null,
   "metadata": {},
   "outputs": [],
   "source": []
  }
 ],
 "metadata": {
  "kernelspec": {
   "display_name": ".venv",
   "language": "python",
   "name": "python3"
  },
  "language_info": {
   "codemirror_mode": {
    "name": "ipython",
    "version": 3
   },
   "file_extension": ".py",
   "mimetype": "text/x-python",
   "name": "python",
   "nbconvert_exporter": "python",
   "pygments_lexer": "ipython3",
   "version": "3.11.3"
  }
 },
 "nbformat": 4,
 "nbformat_minor": 2
}
