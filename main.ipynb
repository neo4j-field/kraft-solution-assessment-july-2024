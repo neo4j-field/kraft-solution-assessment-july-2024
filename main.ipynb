{
 "cells": [
  {
   "cell_type": "code",
   "execution_count": 1,
   "metadata": {},
   "outputs": [
    {
     "data": {
      "text/plain": [
       "True"
      ]
     },
     "execution_count": 1,
     "metadata": {},
     "output_type": "execute_result"
    }
   ],
   "source": [
    "import os\n",
    "from typing import Dict, List, Union\n",
    "\n",
    "from neo4j import GraphDatabase\n",
    "import pandas as pd\n",
    "from dotenv import load_dotenv\n",
    "\n",
    "load_dotenv()"
   ]
  },
  {
   "cell_type": "markdown",
   "metadata": {},
   "source": [
    "### Neo4j Driver"
   ]
  },
  {
   "cell_type": "code",
   "execution_count": 2,
   "metadata": {},
   "outputs": [],
   "source": [
    "driver = GraphDatabase.driver(uri=os.environ.get(\"NEO4J_URI\"), auth=(os.environ.get(\"NEO4J_USERNAME\"), os.environ.get(\"NEO4J_PASSWORD\")))\n",
    "driver.verify_authentication()\n",
    "driver.verify_connectivity()"
   ]
  },
  {
   "cell_type": "code",
   "execution_count": 3,
   "metadata": {},
   "outputs": [],
   "source": [
    "ravi_query: str = \"\"\"\n",
    "// Ravi's\n",
    "MATCH (n:{node_type})\n",
    "WHERE n.name ='{node_name}'\n",
    "WITH n\n",
    "MATCH p=()-[*0..]->(n)\n",
    "WITH n, nodes(p) AS nodes, relationships(p) AS rels\n",
    "with n, { node: head(nodes) , rel: head(rels) } AS root\n",
    "WITH n, COLLECT(DISTINCT root) AS roots\n",
    "MATCH p=(n)-[*0..]->()\n",
    "WITH n, roots, nodes(p) AS nodes, relationships(p) AS rels\n",
    "with n, roots, { node: tail(nodes) , rel: CASE WHEN size(rels) > 1\n",
    "THEN tail(rels) ELSE head(rels) END } AS leaf\n",
    "WITH {node: n, rel: []} as n1, roots, COLLECT(DISTINCT leaf)\n",
    "AS leaves\n",
    "RETURN n1 + roots + leaves as data\n",
    "\"\"\"\n",
    "\n",
    "updated_query: str = \"\"\"\n",
    "MATCH (n:dbt_table_or_consumption_view{{name: 'prod_khc_sales.kroger.kroger_daily_point_of_sale_fact'}})\n",
    "// Get Roots\n",
    "CALL {{\n",
    "    WITH n\n",
    "    CALL apoc.path.expandConfig(n, {{\n",
    "\t    relationshipFilter: \"<\",\n",
    "        minLevel: {min_level},\n",
    "        maxLevel: {max_level},\n",
    "        uniqueness: \"RELATIONSHIP_GLOBAL\"\n",
    "    }})\n",
    "    YIELD path AS p\n",
    "    WITH nodes(p) AS nodes, \n",
    "         relationships(p) AS rels\n",
    "    WITH {{ node: head(nodes) , rel: head(rels) }} AS root\n",
    "    WITH COLLECT(DISTINCT root) AS roots\n",
    "    RETURN roots\n",
    "}}\n",
    "WITH n, roots\n",
    "// Get Leafs\n",
    "CALL {{\n",
    "    WITH n\n",
    "    CALL apoc.path.expandConfig(n, {{\n",
    "\t    relationshipFilter: \">\",\n",
    "        minLevel: {min_level},\n",
    "        maxLevel: {max_level},\n",
    "        uniqueness: \"RELATIONSHIP_GLOBAL\"\n",
    "    }})\n",
    "    YIELD path AS p\n",
    "    WITH n, nodes(p) AS nodes, relationships(p) AS rels\n",
    "    WITH n, {{ node: tail(nodes) , rel: CASE WHEN size(rels) > 1\n",
    "    THEN tail(rels) ELSE head(rels) END }} AS leaf\n",
    "    RETURN {{node: n, rel: []}} as n1, COLLECT(DISTINCT leaf)\n",
    "AS leaves\n",
    "}}\n",
    "WITH n1, roots, leaves\n",
    "WITH id(n1['node']) AS sourceId, [n IN roots | id(n['node'])] AS rootIds, [n IN leaves WHERE isEmpty(n['node']) = false| n['node'][0]] AS leafNodeList\n",
    "RETURN sourceId, rootIds, [n IN leafNodeList | id(n)] AS leafIds\n",
    "\"\"\""
   ]
  },
  {
   "cell_type": "code",
   "execution_count": 4,
   "metadata": {},
   "outputs": [],
   "source": [
    "def run_query(query_template: str, min_level: int, max_level: int) -> List[Union[List[str], str]]:\n",
    "    formatted_query = query_template.format(min_level=min_level, max_level=max_level)\n",
    "    with driver.session() as session:\n",
    "        return session.run(formatted_query).values()[0]"
   ]
  },
  {
   "cell_type": "code",
   "execution_count": null,
   "metadata": {},
   "outputs": [],
   "source": []
  }
 ],
 "metadata": {
  "kernelspec": {
   "display_name": ".venv",
   "language": "python",
   "name": "python3"
  },
  "language_info": {
   "codemirror_mode": {
    "name": "ipython",
    "version": 3
   },
   "file_extension": ".py",
   "mimetype": "text/x-python",
   "name": "python",
   "nbconvert_exporter": "python",
   "pygments_lexer": "ipython3",
   "version": "3.11.3"
  }
 },
 "nbformat": 4,
 "nbformat_minor": 2
}
