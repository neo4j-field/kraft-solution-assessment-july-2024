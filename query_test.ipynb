{
 "cells": [
  {
   "cell_type": "code",
   "execution_count": 2,
   "metadata": {},
   "outputs": [
    {
     "name": "stdout",
     "output_type": "stream",
     "text": [
      ".env variables loaded!\n"
     ]
    }
   ],
   "source": [
    "import os\n",
    "from dotenv import load_dotenv\n",
    "from neo4j import GraphDatabase\n",
    "import yaml\n",
    "\n",
    "(\n",
    "    print(\".env variables loaded!\")\n",
    "    if load_dotenv()\n",
    "    else print(\"Unable to load .env variables.\")\n",
    ")"
   ]
  },
  {
   "cell_type": "code",
   "execution_count": 3,
   "metadata": {},
   "outputs": [],
   "source": [
    "# Load yaml file\n",
    "config = yaml.safe_load(open('config.yaml'))"
   ]
  },
  {
   "cell_type": "markdown",
   "metadata": {},
   "source": [
    "## Test cypher by anchoring on specific node\n",
    "* **prod_khc_sales.kroger.kroger_daily_point_of_sale_fact**\n",
    "  * Original name tested in the call with the kraft team\n",
    "\n",
    "* **prod_khc_sales.iri_us_raw.iri_us_banner_total_category_product**\n",
    "  * Good example to show path explosion (this returns 2.7 million plus records)"
   ]
  },
  {
   "cell_type": "code",
   "execution_count": 4,
   "metadata": {},
   "outputs": [
    {
     "name": "stdout",
     "output_type": "stream",
     "text": [
      "Planner COST\n",
      "\n",
      "Runtime PIPELINED\n",
      "\n",
      "Runtime version 5.21\n",
      "\n",
      "Batch size 1024\n",
      "\n",
      "+-------------------------+----+--------------------------------------+----------------+-------+---------+----------------+------------------------+-----------+---------------------+\n",
      "| Operator                | Id | Details                              | Estimated Rows | Rows  | DB Hits | Memory (Bytes) | Page Cache Hits/Misses | Time (ms) | Pipeline            |\n",
      "+-------------------------+----+--------------------------------------+----------------+-------+---------+----------------+------------------------+-----------+---------------------+\n",
      "| +ProduceResults         |  0 | roots, leaves                        |           5449 |     1 |  748800 |      285261432 |               416380/0 |  4234.724 |                     |\n",
      "| |                       +----+--------------------------------------+----------------+-------+---------+----------------+------------------------+-----------+                     |\n",
      "| +Projection             |  1 | {start: n, leaves: leaves} AS leaves |           5449 |     1 |       0 |                |                    0/0 |     0.069 | In Pipeline 4       |\n",
      "| |                       +----+--------------------------------------+----------------+-------+---------+----------------+------------------------+-----------+---------------------+\n",
      "| +Apply                  |  2 |                                      |           5449 |     1 |       0 |                |                    0/0 |           |                     |\n",
      "| |\\                      +----+--------------------------------------+----------------+-------+---------+----------------+------------------------+-----------+---------------------+\n",
      "| | +EagerAggregation     |  3 | n, COLLECT(leaf) AS leaves           |           5449 |     1 |       0 |       48712208 |                        |           |                     |\n",
      "| | |                     +----+--------------------------------------+----------------+-------+---------+----------------+                        |           |                     |\n",
      "| | +Projection           |  4 | {leaf: m, rels: r} AS leaf           |          11088 | 37356 |       0 |                |                        |           |                     |\n",
      "| | |                     +----+--------------------------------------+----------------+-------+---------+----------------+                        |           |                     |\n",
      "| | +Filter               |  5 | isEmpty(r) = false                   |          11088 | 37356 |       0 |                |                        |           |                     |\n",
      "| | |                     +----+--------------------------------------+----------------+-------+---------+----------------+                        |           |                     |\n",
      "| | +VarLengthExpand(All) |  6 | (n)-[r*0..]->(m)                     |          14784 | 37357 |  400736 |            432 |                        |           |                     |\n",
      "| | |                     +----+--------------------------------------+----------------+-------+---------+----------------+                        |           |                     |\n",
      "| | +Argument             |  7 | n                                    |           2678 |     1 |       0 |         134376 |               107235/0 |   226.501 | Fused in Pipeline 3 |\n",
      "| |                       +----+--------------------------------------+----------------+-------+---------+----------------+------------------------+-----------+---------------------+\n",
      "| +Projection             |  8 | {start: n, roots: roots} AS roots    |           2678 |     1 |       0 |                |                    0/0 |     0.961 | In Pipeline 2       |\n",
      "| |                       +----+--------------------------------------+----------------+-------+---------+----------------+------------------------+-----------+---------------------+\n",
      "| +Apply                  |  9 |                                      |           2678 |     1 |       0 |                |                    0/0 |           |                     |\n",
      "| |\\                      +----+--------------------------------------+----------------+-------+---------+----------------+------------------------+-----------+---------------------+\n",
      "| | +EagerAggregation     | 10 | n, COLLECT(root) AS roots            |           2678 |     1 |       0 |          55224 |                        |           |                     |\n",
      "| | |                     +----+--------------------------------------+----------------+-------+---------+----------------+                        |           |                     |\n",
      "| | +Projection           | 11 | {node: m, rels: r} AS root           |           5600 |    81 |       0 |                |                        |           |                     |\n",
      "| | |                     +----+--------------------------------------+----------------+-------+---------+----------------+                        |           |                     |\n",
      "| | +Filter               | 12 | isEmpty(r) = false                   |           5600 |    81 |       0 |                |                        |           |                     |\n",
      "| | |                     +----+--------------------------------------+----------------+-------+---------+----------------+                        |           |                     |\n",
      "| | +VarLengthExpand(All) | 13 | (n)<-[r*0..]-(m)                     |           7466 |    82 |     533 |            240 |                        |           |                     |\n",
      "| | |                     +----+--------------------------------------+----------------+-------+---------+----------------+                        |           |                     |\n",
      "| | +Argument             | 14 | n                                    |           1281 |     1 |       0 |          16744 |                  211/0 |    24.677 | Fused in Pipeline 1 |\n",
      "| |                       +----+--------------------------------------+----------------+-------+---------+----------------+------------------------+-----------+---------------------+\n",
      "| +Filter                 | 15 | n.name = $name                       |           1281 |     1 |   51222 |                |                        |           |                     |\n",
      "| |                       +----+--------------------------------------+----------------+-------+---------+----------------+                        |           |                     |\n",
      "| +NodeByLabelScan        | 16 | n:dbt_table_or_consumption_view      |          25611 | 25611 |   25612 |            376 |                11420/0 |   240.304 | Fused in Pipeline 0 |\n",
      "+-------------------------+----+--------------------------------------+----------------+-------+---------+----------------+------------------------+-----------+---------------------+\n",
      "\n",
      "Total database accesses: 1226903, total allocated memory: 285271024\n",
      "\n"
     ]
    }
   ],
   "source": [
    "sale_fact = 'prod_khc_sales.kroger.kroger_daily_point_of_sale_fact'\n",
    "total_category_product = 'prod_khc_sales.iri_us_raw.iri_us_banner_total_category_product'\n",
    "\n",
    "with GraphDatabase.driver(os.environ.get(\"NEO4J_URI\"), auth=(os.environ.get(\"NEO4J_USERNAME\"), os.environ.get(\"NEO4J_PASSWORD\"))) as driver:\n",
    "    \n",
    "    summary = driver.execute_query(config['qpp_query'], \n",
    "                                   name=sale_fact, \n",
    "                                   database=os.environ.get(\"NEO4J_DATABASE\")).summary\n",
    "    print(summary.profile['args']['string-representation'])"
   ]
  },
  {
   "cell_type": "code",
   "execution_count": null,
   "metadata": {},
   "outputs": [],
   "source": []
  }
 ],
 "metadata": {
  "kernelspec": {
   "display_name": ".venv",
   "language": "python",
   "name": "python3"
  },
  "language_info": {
   "codemirror_mode": {
    "name": "ipython",
    "version": 3
   },
   "file_extension": ".py",
   "mimetype": "text/x-python",
   "name": "python",
   "nbconvert_exporter": "python",
   "pygments_lexer": "ipython3",
   "version": "3.11.3"
  }
 },
 "nbformat": 4,
 "nbformat_minor": 2
}
