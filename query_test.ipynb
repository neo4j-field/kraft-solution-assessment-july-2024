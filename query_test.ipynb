{
 "cells": [
  {
   "cell_type": "code",
   "execution_count": 1,
   "metadata": {},
   "outputs": [
    {
     "name": "stdout",
     "output_type": "stream",
     "text": [
      ".env variables loaded!\n"
     ]
    }
   ],
   "source": [
    "import os\n",
    "from dotenv import load_dotenv\n",
    "from neo4j import GraphDatabase\n",
    "import yaml\n",
    "\n",
    "(\n",
    "    print(\".env variables loaded!\")\n",
    "    if load_dotenv()\n",
    "    else print(\"Unable to load .env variables.\")\n",
    ")"
   ]
  },
  {
   "cell_type": "code",
   "execution_count": 2,
   "metadata": {},
   "outputs": [],
   "source": [
    "# Load yaml file\n",
    "config = yaml.safe_load(open('config.yaml'))"
   ]
  },
  {
   "cell_type": "markdown",
   "metadata": {},
   "source": [
    "## Test cypher by anchoring on specific node\n",
    "* **prod_khc_sales.kroger.kroger_daily_point_of_sale_fact**\n",
    "  * Original name tested in the call with the kraft team\n",
    "\n",
    "* **prod_khc_sales.iri_us_raw.iri_us_banner_total_category_product**\n",
    "  * Good example to show path explosion (this returns 2.7 million plus records)"
   ]
  },
  {
   "cell_type": "code",
   "execution_count": 4,
   "metadata": {},
   "outputs": [
    {
     "name": "stdout",
     "output_type": "stream",
     "text": [
      "Planner COST\n",
      "\n",
      "Runtime PIPELINED\n",
      "\n",
      "Runtime version 5.21\n",
      "\n",
      "Batch size 128\n",
      "\n",
      "+-------------------------+----+---------------------------------------------------------------------+----------------+-------+---------+----------------+------------------------+-----------+---------------------+\n",
      "| Operator                | Id | Details                                                             | Estimated Rows | Rows  | DB Hits | Memory (Bytes) | Page Cache Hits/Misses | Time (ms) | Pipeline            |\n",
      "+-------------------------+----+---------------------------------------------------------------------+----------------+-------+---------+----------------+------------------------+-----------+---------------------+\n",
      "| +ProduceResults         |  0 | roots, leaves                                                       |              4 |     1 |  748800 |      285261432 |               416379/0 |  3432.936 |                     |\n",
      "| |                       +----+---------------------------------------------------------------------+----------------+-------+---------+----------------+------------------------+-----------+                     |\n",
      "| +Projection             |  1 | {start: n, leaves: leaves} AS leaves                                |              4 |     1 |       0 |                |                    0/0 |     0.071 | In Pipeline 4       |\n",
      "| |                       +----+---------------------------------------------------------------------+----------------+-------+---------+----------------+------------------------+-----------+---------------------+\n",
      "| +Apply                  |  2 |                                                                     |              4 |     1 |       0 |                |                    0/0 |           |                     |\n",
      "| |\\                      +----+---------------------------------------------------------------------+----------------+-------+---------+----------------+------------------------+-----------+---------------------+\n",
      "| | +EagerAggregation     |  3 | n, COLLECT(leaf) AS leaves                                          |              4 |     1 |       0 |       48708624 |                        |           |                     |\n",
      "| | |                     +----+---------------------------------------------------------------------+----------------+-------+---------+----------------+                        |           |                     |\n",
      "| | +Projection           |  4 | {leaf: m, rels: r} AS leaf                                          |              9 | 37356 |       0 |                |                        |           |                     |\n",
      "| | |                     +----+---------------------------------------------------------------------+----------------+-------+---------+----------------+                        |           |                     |\n",
      "| | +Filter               |  5 | isEmpty(r) = false                                                  |              9 | 37356 |       0 |                |                        |           |                     |\n",
      "| | |                     +----+---------------------------------------------------------------------+----------------+-------+---------+----------------+                        |           |                     |\n",
      "| | +VarLengthExpand(All) |  6 | (n)-[r*0..]->(m)                                                    |             12 | 37357 |  400736 |            432 |                        |           |                     |\n",
      "| | |                     +----+---------------------------------------------------------------------+----------------+-------+---------+----------------+                        |           |                     |\n",
      "| | +Argument             |  7 | n                                                                   |              2 |     1 |       0 |         105704 |               107235/0 |    50.039 | Fused in Pipeline 3 |\n",
      "| |                       +----+---------------------------------------------------------------------+----------------+-------+---------+----------------+------------------------+-----------+---------------------+\n",
      "| +Projection             |  8 | {start: n, roots: roots} AS roots                                   |              2 |     1 |       0 |                |                    0/0 |     0.030 | In Pipeline 2       |\n",
      "| |                       +----+---------------------------------------------------------------------+----------------+-------+---------+----------------+------------------------+-----------+---------------------+\n",
      "| +Apply                  |  9 |                                                                     |              2 |     1 |       0 |                |                    0/0 |           |                     |\n",
      "| |\\                      +----+---------------------------------------------------------------------+----------------+-------+---------+----------------+------------------------+-----------+---------------------+\n",
      "| | +EagerAggregation     | 10 | n, COLLECT(root) AS roots                                           |              2 |     1 |       0 |          51640 |                        |           |                     |\n",
      "| | |                     +----+---------------------------------------------------------------------+----------------+-------+---------+----------------+                        |           |                     |\n",
      "| | +Projection           | 11 | {node: m, rels: r} AS root                                          |              4 |    81 |       0 |                |                        |           |                     |\n",
      "| | |                     +----+---------------------------------------------------------------------+----------------+-------+---------+----------------+                        |           |                     |\n",
      "| | +Filter               | 12 | isEmpty(r) = false                                                  |              4 |    81 |       0 |                |                        |           |                     |\n",
      "| | |                     +----+---------------------------------------------------------------------+----------------+-------+---------+----------------+                        |           |                     |\n",
      "| | +VarLengthExpand(All) | 13 | (n)<-[r*0..]-(m)                                                    |              6 |    82 |     533 |            240 |                        |           |                     |\n",
      "| | |                     +----+---------------------------------------------------------------------+----------------+-------+---------+----------------+                        |           |                     |\n",
      "| | +Argument             | 14 | n                                                                   |              1 |     1 |       0 |           2408 |                  210/0 |     0.380 | Fused in Pipeline 1 |\n",
      "| |                       +----+---------------------------------------------------------------------+----------------+-------+---------+----------------+------------------------+-----------+---------------------+\n",
      "| +NodeIndexSeek          | 15 | TEXT INDEX n:dbt_table_or_consumption_view(name) WHERE name = $name |              1 |     1 |       2 |            376 |                    3/0 |     2.837 | In Pipeline 0       |\n",
      "+-------------------------+----+---------------------------------------------------------------------+----------------+-------+---------+----------------+------------------------+-----------+---------------------+\n",
      "\n",
      "Total database accesses: 1150071, total allocated memory: 285263856\n",
      "\n"
     ]
    }
   ],
   "source": [
    "sale_fact = 'prod_khc_sales.kroger.kroger_daily_point_of_sale_fact'\n",
    "total_category_product = 'prod_khc_sales.iri_us_raw.iri_us_banner_total_category_product'\n",
    "\n",
    "with GraphDatabase.driver(os.environ.get(\"NEO4J_URI\"), auth=(os.environ.get(\"NEO4J_USERNAME\"), os.environ.get(\"NEO4J_PASSWORD\"))) as driver:\n",
    "    \n",
    "    summary = driver.execute_query(config['qpp_query'], \n",
    "                                   name=sale_fact, \n",
    "                                   database=os.environ.get(\"NEO4J_DATABASE\")).summary\n",
    "    print(summary.profile['args']['string-representation'])"
   ]
  }
 ],
 "metadata": {
  "kernelspec": {
   "display_name": ".venv",
   "language": "python",
   "name": "python3"
  },
  "language_info": {
   "codemirror_mode": {
    "name": "ipython",
    "version": 3
   },
   "file_extension": ".py",
   "mimetype": "text/x-python",
   "name": "python",
   "nbconvert_exporter": "python",
   "pygments_lexer": "ipython3",
   "version": "3.11.9"
  }
 },
 "nbformat": 4,
 "nbformat_minor": 2
}
