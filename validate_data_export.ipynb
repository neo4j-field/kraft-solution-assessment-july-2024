{
 "cells": [
  {
   "cell_type": "code",
   "execution_count": 64,
   "metadata": {},
   "outputs": [],
   "source": [
    "import os\n",
    "import sys\n",
    "from typing import Any, Dict, List, Union\n",
    "import json\n",
    "\n",
    "from neo4j import GraphDatabase"
   ]
  },
  {
   "cell_type": "code",
   "execution_count": 2,
   "metadata": {},
   "outputs": [],
   "source": [
    "uri = os.environ.get(\"NEO4J_URI\")\n",
    "user = os.environ.get(\"NEO4J_USERNAME\")\n",
    "password = os.environ.get(\"NEO4J_PASSWORD\")\n",
    "dbname = 'neo4j'\n",
    "\n",
    "\n",
    "driver = GraphDatabase.driver(\n",
    "uri,\n",
    "auth=(user, password),\n",
    "max_transaction_retry_time=180,\n",
    ")"
   ]
  },
  {
   "cell_type": "code",
   "execution_count": 50,
   "metadata": {},
   "outputs": [],
   "source": [
    "query = \"\"\"\n",
    "call apoc.meta.stats\n",
    "yield labels, relTypesCount\n",
    "\"\"\""
   ]
  },
  {
   "cell_type": "code",
   "execution_count": 51,
   "metadata": {},
   "outputs": [],
   "source": [
    "def get_neo4j_data_counts() -> List[Dict[str, Any]]:\n",
    "    # print(query.format(node_label=node_label))\n",
    "    with driver.session(database=dbname) as session:\n",
    "        return session.run(query).values()[0]"
   ]
  },
  {
   "cell_type": "code",
   "execution_count": 62,
   "metadata": {},
   "outputs": [],
   "source": [
    "def get_jsonl_node_file_size(node_label: str) -> int:\n",
    "    file_name: str = f\"exports/nodes/{node_label}.jsonl\"\n",
    "    jsonl_file = \"\"\n",
    "    lines = 0\n",
    "    with open(file_name, 'r', encoding='utf-8') as f:\n",
    "        for line in f:\n",
    "            lines+=1\n",
    "            jsonl_file += f\"{line}\\n\"\n",
    "    return lines\n",
    "\n",
    "def get_jsonl_rel_file_size(rel_type: str) -> int:\n",
    "    file_name: str = f\"exports/relationships/{rel_type}.jsonl\"\n",
    "    jsonl_file = \"\"\n",
    "    lines = 0\n",
    "    with open(file_name, 'r', encoding='utf-8') as f:\n",
    "        for line in f:\n",
    "            lines+=1\n",
    "            jsonl_file += f\"{line}\\n\"\n",
    "    return lines"
   ]
  },
  {
   "cell_type": "code",
   "execution_count": 67,
   "metadata": {},
   "outputs": [],
   "source": [
    "labels = [\"source\", \"ingested_table\", \n",
    "          \"dbt_table_or_consumption_view\", \n",
    "          \"powerbi_workspace\", \n",
    "          \"powerbi_report\", \"powerbi_dashboard\", \"powerbi_dashboard_tile\", \n",
    "          \"powerbi_dataset\", \n",
    "          \"powerbi_table\", \"powerbi_datamart\", \"tableau_table\", \"tableau_dashboard\", \"tableau_workbook\", \n",
    "          \"tableau_sheet\"]\n",
    "\n",
    "rels = [\"ingested_as\", \"has_view\", \"referenced_by\", \"used_in_powerbi_table\", \"present_in\", \"in_dashboard\", \"used_in_tile\", \"used_in\", \"in_workspace\", \"contained_in\", \"visualized_as\"]"
   ]
  },
  {
   "cell_type": "code",
   "execution_count": 54,
   "metadata": {},
   "outputs": [],
   "source": [
    "data_counts = get_neo4j_data_counts()"
   ]
  },
  {
   "cell_type": "code",
   "execution_count": 75,
   "metadata": {},
   "outputs": [],
   "source": [
    "# label = \"dbt_table_or_consumption_view\"\n",
    "# s = 0\n",
    "# for rel in [{k:v} for k, v in data_counts[1].items() if k[2:].startswith(label)]:\n",
    "#     print(rel)\n",
    "#     s += list(rel.values())[0]\n",
    "# print(s)"
   ]
  },
  {
   "cell_type": "code",
   "execution_count": 55,
   "metadata": {},
   "outputs": [],
   "source": [
    "def get_rel_total(rel_type: str) -> int:\n",
    "    return data_counts[1][rel_type]"
   ]
  },
  {
   "cell_type": "code",
   "execution_count": 56,
   "metadata": {},
   "outputs": [],
   "source": [
    "def get_label_total(label: str) -> int:\n",
    "    return data_counts[0][label]"
   ]
  },
  {
   "cell_type": "code",
   "execution_count": 71,
   "metadata": {},
   "outputs": [],
   "source": [
    "def validate_data_exports(labels: List[str], relationships: List[str]) -> Dict[str, Union[bool, Dict[str, Any]]]:\n",
    "\n",
    "    result = dict()\n",
    "    result[\"data\"] = dict()\n",
    "    result[\"valid\"] = True\n",
    "\n",
    "    for label in labels:\n",
    "        result[\"data\"][label] = dict()\n",
    "        result[\"data\"][label][\"database\"] = get_label_total(label)\n",
    "        result[\"data\"][label][\"file\"] = get_jsonl_node_file_size(label)\n",
    "        if result[\"data\"][label][\"database\"] != result[\"data\"][label][\"file\"]:\n",
    "            result[\"valid\"] = False\n",
    "            print(f\"{label} is not exported properly. database: {result['data'][label]['database']} | file: {result['data'][label]['file']}\")\n",
    "    for rel in relationships:\n",
    "        result[\"data\"][rel] = dict()\n",
    "        result[\"data\"][rel][\"database\"] = get_rel_total(rel)\n",
    "        result[\"data\"][rel][\"file\"] = get_jsonl_rel_file_size(rel)\n",
    "        if result[\"data\"][rel][\"database\"] != result[\"data\"][rel][\"file\"]:\n",
    "            result[\"valid\"] = False\n",
    "            print(f\"{rel} is not exported properly. database: {result['data'][rel]['database']} | file: {result['data'][rel]['file']}\")\n",
    "    \n",
    "    return result"
   ]
  },
  {
   "cell_type": "code",
   "execution_count": 73,
   "metadata": {},
   "outputs": [],
   "source": [
    "validation = validate_data_exports(labels=labels, relationships=rels)"
   ]
  },
  {
   "cell_type": "code",
   "execution_count": 76,
   "metadata": {},
   "outputs": [
    {
     "data": {
      "text/plain": [
       "{'source': {'database': 10700, 'file': 10700},\n",
       " 'ingested_table': {'database': 10701, 'file': 10701},\n",
       " 'dbt_table_or_consumption_view': {'database': 25611, 'file': 25611},\n",
       " 'powerbi_workspace': {'database': 111, 'file': 111},\n",
       " 'powerbi_report': {'database': 1596, 'file': 1596},\n",
       " 'powerbi_dashboard': {'database': 206, 'file': 206},\n",
       " 'powerbi_dashboard_tile': {'database': 574, 'file': 574},\n",
       " 'powerbi_dataset': {'database': 1030, 'file': 1030},\n",
       " 'powerbi_table': {'database': 10889, 'file': 10889},\n",
       " 'powerbi_datamart': {'database': 5, 'file': 5},\n",
       " 'tableau_table': {'database': 7188, 'file': 7188},\n",
       " 'tableau_dashboard': {'database': 11632, 'file': 11632},\n",
       " 'tableau_workbook': {'database': 2536, 'file': 2536},\n",
       " 'tableau_sheet': {'database': 72227, 'file': 72227},\n",
       " 'ingested_as': {'database': 10701, 'file': 10701},\n",
       " 'has_view': {'database': 10685, 'file': 10685},\n",
       " 'referenced_by': {'database': 44177, 'file': 44177},\n",
       " 'used_in_powerbi_table': {'database': 6749, 'file': 6749},\n",
       " 'present_in': {'database': 211, 'file': 211},\n",
       " 'in_dashboard': {'database': 574, 'file': 574},\n",
       " 'used_in_tile': {'database': 1129, 'file': 1129},\n",
       " 'used_in': {'database': 1590, 'file': 1590},\n",
       " 'in_workspace': {'database': 1030, 'file': 1030},\n",
       " 'contained_in': {'database': 10889, 'file': 10889},\n",
       " 'visualized_as': {'database': 469, 'file': 469}}"
      ]
     },
     "execution_count": 76,
     "metadata": {},
     "output_type": "execute_result"
    }
   ],
   "source": [
    "validation[\"data\"]"
   ]
  },
  {
   "cell_type": "code",
   "execution_count": 74,
   "metadata": {},
   "outputs": [
    {
     "name": "stdout",
     "output_type": "stream",
     "text": [
      "True\n"
     ]
    }
   ],
   "source": [
    "print(validation[\"valid\"])"
   ]
  }
 ],
 "metadata": {
  "kernelspec": {
   "display_name": ".venv",
   "language": "python",
   "name": "python3"
  },
  "language_info": {
   "codemirror_mode": {
    "name": "ipython",
    "version": 3
   },
   "file_extension": ".py",
   "mimetype": "text/x-python",
   "name": "python",
   "nbconvert_exporter": "python",
   "pygments_lexer": "ipython3",
   "version": "3.11.3"
  }
 },
 "nbformat": 4,
 "nbformat_minor": 2
}
